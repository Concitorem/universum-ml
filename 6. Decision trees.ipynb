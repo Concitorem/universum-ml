{
 "cells": [
  {
   "cell_type": "markdown",
   "metadata": {},
   "source": [
    "## Решающие деревья"
   ]
  },
  {
   "cell_type": "markdown",
   "metadata": {},
   "source": [
    "Вернемся к задаче классификации, и вспомним задачу об ирисах."
   ]
  },
  {
   "cell_type": "code",
   "execution_count": 6,
   "metadata": {},
   "outputs": [],
   "source": [
    "import sklearn\n",
    "import sklearn.datasets\n",
    "import pandas as pd\n",
    "import numpy as np\n",
    "#from sklearn import \n",
    "iris = sklearn.datasets.load_iris()\n",
    "data = pd.DataFrame(iris['data'], columns=iris['feature_names'])\n",
    "y = iris['target']"
   ]
  },
  {
   "cell_type": "code",
   "execution_count": 7,
   "metadata": {},
   "outputs": [],
   "source": [
    "%matplotlib inline\n",
    "from matplotlib import pyplot as plt"
   ]
  },
  {
   "cell_type": "code",
   "execution_count": 8,
   "metadata": {},
   "outputs": [
    {
     "data": {
      "text/html": [
       "<div>\n",
       "<style scoped>\n",
       "    .dataframe tbody tr th:only-of-type {\n",
       "        vertical-align: middle;\n",
       "    }\n",
       "\n",
       "    .dataframe tbody tr th {\n",
       "        vertical-align: top;\n",
       "    }\n",
       "\n",
       "    .dataframe thead th {\n",
       "        text-align: right;\n",
       "    }\n",
       "</style>\n",
       "<table border=\"1\" class=\"dataframe\">\n",
       "  <thead>\n",
       "    <tr style=\"text-align: right;\">\n",
       "      <th></th>\n",
       "      <th>sepal length (cm)</th>\n",
       "      <th>sepal width (cm)</th>\n",
       "      <th>petal length (cm)</th>\n",
       "      <th>petal width (cm)</th>\n",
       "    </tr>\n",
       "  </thead>\n",
       "  <tbody>\n",
       "    <tr>\n",
       "      <th>0</th>\n",
       "      <td>5.1</td>\n",
       "      <td>3.5</td>\n",
       "      <td>1.4</td>\n",
       "      <td>0.2</td>\n",
       "    </tr>\n",
       "    <tr>\n",
       "      <th>1</th>\n",
       "      <td>4.9</td>\n",
       "      <td>3.0</td>\n",
       "      <td>1.4</td>\n",
       "      <td>0.2</td>\n",
       "    </tr>\n",
       "    <tr>\n",
       "      <th>2</th>\n",
       "      <td>4.7</td>\n",
       "      <td>3.2</td>\n",
       "      <td>1.3</td>\n",
       "      <td>0.2</td>\n",
       "    </tr>\n",
       "    <tr>\n",
       "      <th>3</th>\n",
       "      <td>4.6</td>\n",
       "      <td>3.1</td>\n",
       "      <td>1.5</td>\n",
       "      <td>0.2</td>\n",
       "    </tr>\n",
       "    <tr>\n",
       "      <th>4</th>\n",
       "      <td>5.0</td>\n",
       "      <td>3.6</td>\n",
       "      <td>1.4</td>\n",
       "      <td>0.2</td>\n",
       "    </tr>\n",
       "  </tbody>\n",
       "</table>\n",
       "</div>"
      ],
      "text/plain": [
       "   sepal length (cm)  sepal width (cm)  petal length (cm)  petal width (cm)\n",
       "0                5.1               3.5                1.4               0.2\n",
       "1                4.9               3.0                1.4               0.2\n",
       "2                4.7               3.2                1.3               0.2\n",
       "3                4.6               3.1                1.5               0.2\n",
       "4                5.0               3.6                1.4               0.2"
      ]
     },
     "execution_count": 8,
     "metadata": {},
     "output_type": "execute_result"
    }
   ],
   "source": [
    "data.head()"
   ]
  },
  {
   "cell_type": "markdown",
   "metadata": {},
   "source": [
    "Для простоты давайте будем учиться отличать второй класс от нулевого и первого, то есть таргет будет устроен так:"
   ]
  },
  {
   "cell_type": "code",
   "execution_count": 42,
   "metadata": {},
   "outputs": [],
   "source": [
    "y =  np.array(y < 1, dtype=int)"
   ]
  },
  {
   "cell_type": "code",
   "execution_count": 10,
   "metadata": {},
   "outputs": [
    {
     "data": {
      "text/plain": [
       "array([1, 1, 1, 1, 1, 1, 1, 1, 1, 1, 1, 1, 1, 1, 1, 1, 1, 1, 1, 1, 1, 1,\n",
       "       1, 1, 1, 1, 1, 1, 1, 1, 1, 1, 1, 1, 1, 1, 1, 1, 1, 1, 1, 1, 1, 1,\n",
       "       1, 1, 1, 1, 1, 1, 1, 1, 1, 1, 1, 1, 1, 1, 1, 1, 1, 1, 1, 1, 1, 1,\n",
       "       1, 1, 1, 1, 1, 1, 1, 1, 1, 1, 1, 1, 1, 1, 1, 1, 1, 1, 1, 1, 1, 1,\n",
       "       1, 1, 1, 1, 1, 1, 1, 1, 1, 1, 1, 1, 0, 0, 0, 0, 0, 0, 0, 0, 0, 0,\n",
       "       0, 0, 0, 0, 0, 0, 0, 0, 0, 0, 0, 0, 0, 0, 0, 0, 0, 0, 0, 0, 0, 0,\n",
       "       0, 0, 0, 0, 0, 0, 0, 0, 0, 0, 0, 0, 0, 0, 0, 0, 0, 0])"
      ]
     },
     "execution_count": 10,
     "metadata": {},
     "output_type": "execute_result"
    }
   ],
   "source": [
    "y"
   ]
  },
  {
   "cell_type": "markdown",
   "metadata": {},
   "source": [
    "Можно подойти к решению этой задачи так: у каждого примера есть четрые признака, $x_1, \\dots, x_4$. Давайте найдем вопрос вида \"Верно ли, что $x_i  < a$?\", который дает больше всего информации о типе цветка."
   ]
  },
  {
   "cell_type": "code",
   "execution_count": 11,
   "metadata": {},
   "outputs": [
    {
     "data": {
      "text/plain": [
       "[<matplotlib.lines.Line2D at 0x1cc53846390>]"
      ]
     },
     "execution_count": 11,
     "metadata": {},
     "output_type": "execute_result"
    },
    {
     "data": {
      "image/png": "[encoded data removed]",
      "text/plain": [
       "<matplotlib.figure.Figure at 0x1cc5378aac8>"
      ]
     },
     "metadata": {},
     "output_type": "display_data"
    }
   ],
   "source": [
    "plt.plot(data['sepal length (cm)'])"
   ]
  },
  {
   "cell_type": "markdown",
   "metadata": {},
   "source": [
    "Нам нужно научиться выбирать самый хороший вопрос.\n",
    "\n",
    "Для начала давайте рассмотрим какой-нибудь пример, скажем sepal length > 6 и посмотрим, сколько примеров каждого класса удовлетворяет этому условию:"
   ]
  },
  {
   "cell_type": "code",
   "execution_count": 12,
   "metadata": {},
   "outputs": [
    {
     "name": "stdout",
     "output_type": "stream",
     "text": [
      "Sepal length > 6 and target 1: 20\n",
      "Sepal length > 6 and target 0: 41\n",
      "\n",
      "Sepal length < 6 and target 1: 76\n",
      "Sepal length < 6 and target 0: 7\n"
     ]
    }
   ],
   "source": [
    "condition = data['sepal length (cm)'] > 6\n",
    "print('Sepal length > 6 and target 1:', sum(y[condition]))\n",
    "print('Sepal length > 6 and target 0:', sum(1 - y[condition]))\n",
    "print()\n",
    "condition = data['sepal length (cm)'] < 6\n",
    "print('Sepal length < 6 and target 1:', sum(y[condition]))\n",
    "print('Sepal length < 6 and target 0:', sum(1 - y[condition]))\n"
   ]
  },
  {
   "cell_type": "markdown",
   "metadata": {},
   "source": [
    "Нам нужно понять, хорошо это или плохо. Если мы должны сделать наше предсказание глядя только на эти результаты мы припишем документам, для которых sepal_length > 6 вероятность $p_1$ оказаться в классе 1, а для тех у которых sepal_length < 6 вероятность $p_2$."
   ]
  },
  {
   "cell_type": "markdown",
   "metadata": {},
   "source": [
    "Вспомним метрику LogLoss, которую мы оптимизировали:\n",
    "$$\n",
    "  -\\sum_{x \\in 1} \\ln p_x - \\sum_{x \\in 0} \\ln (1-p_x)\n",
    "$$"
   ]
  },
  {
   "cell_type": "markdown",
   "metadata": {},
   "source": [
    "Нужно выбрать p_1 и p_2 так, чтобы минимизировать эту функцию. Ясно, что выбирать их можно независимо. Посмотрим, что происходит в случае sepal length > 6. Наше выражение для функции потерь превращается в\n",
    "$$\n",
    "  - A \\ln p_1 - B \\ln (1-p_1),\n",
    "$$\n",
    "в нашем случае A = 20, B = 41.\n",
    "\n",
    "\n",
    "Если найти значение p, при котором достигается максимум этой функции, мы получим $p = \\frac{A}{A+B}$.\n",
    "\n",
    "Заметим, что этот число -- в точности \"наблюдаемая\" для тех цветов, у которых sepal length > 6 вероятность оказаться в классе 1.\n"
   ]
  },
  {
   "cell_type": "markdown",
   "metadata": {},
   "source": [
    "Естественно считать, что лучшим вопросом будет тот, для которого суммарный LogLoss будет минимальным. Давайте напишем функцию, которая оценивает качество каждого вопроса"
   ]
  },
  {
   "cell_type": "code",
   "execution_count": 13,
   "metadata": {},
   "outputs": [],
   "source": [
    "def rate_question(feature, threshold):\n",
    "    condition = data[feature] < threshold\n",
    "    lower = y[condition]\n",
    "    higher = y[condition ^ True]\n",
    "    p1 = sum(lower) / len(lower) if len(lower) else 0\n",
    "    p2 = sum(higher) / len(higher) if len(higher) else 0\n",
    "    loss = 0\n",
    "    if 0 < p1 < 1.0:\n",
    "        loss -= sum(lower) * np.log(p1) + sum(1-lower) * np.log(1-p1)\n",
    "    if 0 < p2 < 1.0:\n",
    "        loss -= sum(higher) * np.log(p2) + sum(1-higher) * np.log(1-p2)\n",
    "        \n",
    "    return loss"
   ]
  },
  {
   "cell_type": "markdown",
   "metadata": {},
   "source": [
    "Теперь мы можем проверить качество разбиения для любого вопроса:"
   ]
  },
  {
   "cell_type": "code",
   "execution_count": 15,
   "metadata": {},
   "outputs": [
    {
     "data": {
      "text/plain": [
       "67.71617413799011"
      ]
     },
     "execution_count": 15,
     "metadata": {},
     "output_type": "execute_result"
    }
   ],
   "source": [
    "rate_question('sepal length (cm)', 6)"
   ]
  },
  {
   "cell_type": "markdown",
   "metadata": {},
   "source": [
    "Можем, например перебрать все возможные вопросы (точнее не все, а, например, по 100 значений для каждого признака) и выбрать лучший.\n",
    "\n",
    "__Задание__: сделайте это. Какую точность дает такой классификатор?"
   ]
  },
  {
   "cell_type": "markdown",
   "metadata": {},
   "source": [
    "Описанную конструкцию удобно визуализировать как бинарное дерево, в корне которого стоит вопрос, а листья соответствуют ответам нашего предсказания:\n",
    "\n",
    "Для визуализации понадобится пакет graphviz. Его можно установить командой\n",
    "\n",
    "conda install python-graphviz\n",
    "\n",
    "возможно для этого нужно будет запустить anaconda command prompt\n"
   ]
  },
  {
   "cell_type": "code",
   "execution_count": 16,
   "metadata": {},
   "outputs": [],
   "source": [
    "import graphviz"
   ]
  },
  {
   "cell_type": "code",
   "execution_count": 17,
   "metadata": {
    "scrolled": true
   },
   "outputs": [
    {
     "data": {
      "image/svg+xml": [
       "<?xml version=\"1.0\" encoding=\"UTF-8\" standalone=\"no\"?>\r\n",
       "<!DOCTYPE svg PUBLIC \"-//W3C//DTD SVG 1.1//EN\"\r\n",
       " \"http://www.w3.org/Graphics/SVG/1.1/DTD/svg11.dtd\">\r\n",
       "<!-- Generated by graphviz version 2.38.0 (20140413.2041)\r\n",
       " -->\r\n",
       "<!-- Title: %3 Pages: 1 -->\r\n",
       "<svg width=\"350pt\" height=\"116pt\"\r\n",
       " viewBox=\"0.00 0.00 350.49 116.00\" xmlns=\"http://www.w3.org/2000/svg\" xmlns:xlink=\"http://www.w3.org/1999/xlink\">\r\n",
       "<g id=\"graph0\" class=\"graph\" transform=\"scale(1 1) rotate(0) translate(4 112)\">\r\n",
       "<title>%3</title>\r\n",
       "<polygon fill=\"white\" stroke=\"none\" points=\"-4,4 -4,-112 346.486,-112 346.486,4 -4,4\"/>\r\n",
       "<!-- A -->\r\n",
       "<g id=\"node1\" class=\"node\"><title>A</title>\r\n",
       "<ellipse fill=\"none\" stroke=\"black\" cx=\"171.243\" cy=\"-90\" rx=\"85.2851\" ry=\"18\"/>\r\n",
       "<text text-anchor=\"middle\" x=\"171.243\" y=\"-86.3\" font-family=\"Times New Roman,serif\" font-size=\"14.00\">sepal length &gt; 6 cm?</text>\r\n",
       "</g>\r\n",
       "<!-- B -->\r\n",
       "<g id=\"node2\" class=\"node\"><title>B</title>\r\n",
       "<ellipse fill=\"none\" stroke=\"black\" cx=\"81.2428\" cy=\"-18\" rx=\"81.4863\" ry=\"18\"/>\r\n",
       "<text text-anchor=\"middle\" x=\"81.2428\" y=\"-14.3\" font-family=\"Times New Roman,serif\" font-size=\"14.00\">sepal length &lt; 6 cm</text>\r\n",
       "</g>\r\n",
       "<!-- A&#45;&gt;B -->\r\n",
       "<g id=\"edge1\" class=\"edge\"><title>A&#45;&gt;B</title>\r\n",
       "<path fill=\"none\" stroke=\"black\" d=\"M149.914,-72.411C138.145,-63.2575 123.357,-51.7553 110.52,-41.7715\"/>\r\n",
       "<polygon fill=\"black\" stroke=\"black\" points=\"112.461,-38.8467 102.418,-35.4699 108.163,-44.3721 112.461,-38.8467\"/>\r\n",
       "</g>\r\n",
       "<!-- C -->\r\n",
       "<g id=\"node3\" class=\"node\"><title>C</title>\r\n",
       "<ellipse fill=\"none\" stroke=\"black\" cx=\"261.243\" cy=\"-18\" rx=\"81.4863\" ry=\"18\"/>\r\n",
       "<text text-anchor=\"middle\" x=\"261.243\" y=\"-14.3\" font-family=\"Times New Roman,serif\" font-size=\"14.00\">sepal length &gt; 6 cm</text>\r\n",
       "</g>\r\n",
       "<!-- A&#45;&gt;C -->\r\n",
       "<g id=\"edge2\" class=\"edge\"><title>A&#45;&gt;C</title>\r\n",
       "<path fill=\"none\" stroke=\"black\" d=\"M192.572,-72.411C204.34,-63.2575 219.129,-51.7553 231.965,-41.7715\"/>\r\n",
       "<polygon fill=\"black\" stroke=\"black\" points=\"234.322,-44.3721 240.067,-35.4699 230.025,-38.8467 234.322,-44.3721\"/>\r\n",
       "</g>\r\n",
       "</g>\r\n",
       "</svg>\r\n"
      ],
      "text/plain": [
       "<graphviz.dot.Digraph at 0x1cc53877400>"
      ]
     },
     "execution_count": 17,
     "metadata": {},
     "output_type": "execute_result"
    }
   ],
   "source": [
    "dot = graphviz.Digraph(comment='Decision tree')\n",
    "dot.node('A', 'sepal length > 6 cm?')\n",
    "dot.node('B', 'sepal length < 6 cm')\n",
    "dot.node('C', 'sepal length > 6 cm')\n",
    "dot.edge('A', 'B')\n",
    "dot.edge('A', 'C')\n",
    "dot"
   ]
  },
  {
   "cell_type": "markdown",
   "metadata": {},
   "source": [
    "Дальше мы можем в каждом из листьев подобрать еще какой нибудь вопрос. \n",
    "\n",
    "__Задание__: Сделайте это."
   ]
  },
  {
   "cell_type": "code",
   "execution_count": null,
   "metadata": {},
   "outputs": [],
   "source": [
    "Этот алгоритм реализован в sklearn в классе"
   ]
  },
  {
   "cell_type": "code",
   "execution_count": 20,
   "metadata": {},
   "outputs": [],
   "source": [
    "from sklearn import tree\n",
    "clf = tree.DecisionTreeClassifier(max_depth=2)\n",
    "clf.fit(data, y);"
   ]
  },
  {
   "cell_type": "code",
   "execution_count": 21,
   "metadata": {},
   "outputs": [],
   "source": []
  },
  {
   "cell_type": "markdown",
   "metadata": {},
   "source": [
    "Полученное дерево можно удобно визуализировать:\n"
   ]
  },
  {
   "cell_type": "code",
   "execution_count": 23,
   "metadata": {},
   "outputs": [
    {
     "data": {
      "image/svg+xml": [
       "<?xml version=\"1.0\" encoding=\"UTF-8\" standalone=\"no\"?>\r\n",
       "<!DOCTYPE svg PUBLIC \"-//W3C//DTD SVG 1.1//EN\"\r\n",
       " \"http://www.w3.org/Graphics/SVG/1.1/DTD/svg11.dtd\">\r\n",
       "<!-- Generated by graphviz version 2.38.0 (20140413.2041)\r\n",
       " -->\r\n",
       "<!-- Title: Tree Pages: 1 -->\r\n",
       "<svg width=\"444pt\" height=\"269pt\"\r\n",
       " viewBox=\"0.00 0.00 444.00 269.00\" xmlns=\"http://www.w3.org/2000/svg\" xmlns:xlink=\"http://www.w3.org/1999/xlink\">\r\n",
       "<g id=\"graph0\" class=\"graph\" transform=\"scale(1 1) rotate(0) translate(4 265)\">\r\n",
       "<title>Tree</title>\r\n",
       "<polygon fill=\"white\" stroke=\"none\" points=\"-4,4 -4,-265 440,-265 440,4 -4,4\"/>\r\n",
       "<!-- 0 -->\r\n",
       "<g id=\"node1\" class=\"node\"><title>0</title>\r\n",
       "<polygon fill=\"none\" stroke=\"black\" points=\"273.5,-261 162.5,-261 162.5,-193 273.5,-193 273.5,-261\"/>\r\n",
       "<text text-anchor=\"middle\" x=\"218\" y=\"-245.8\" font-family=\"Times New Roman,serif\" font-size=\"14.00\">X[3] &lt;= 1.75</text>\r\n",
       "<text text-anchor=\"middle\" x=\"218\" y=\"-230.8\" font-family=\"Times New Roman,serif\" font-size=\"14.00\">gini = 0.444</text>\r\n",
       "<text text-anchor=\"middle\" x=\"218\" y=\"-215.8\" font-family=\"Times New Roman,serif\" font-size=\"14.00\">samples = 150</text>\r\n",
       "<text text-anchor=\"middle\" x=\"218\" y=\"-200.8\" font-family=\"Times New Roman,serif\" font-size=\"14.00\">value = [50, 100]</text>\r\n",
       "</g>\r\n",
       "<!-- 1 -->\r\n",
       "<g id=\"node2\" class=\"node\"><title>1</title>\r\n",
       "<polygon fill=\"none\" stroke=\"black\" points=\"209,-157 111,-157 111,-89 209,-89 209,-157\"/>\r\n",
       "<text text-anchor=\"middle\" x=\"160\" y=\"-141.8\" font-family=\"Times New Roman,serif\" font-size=\"14.00\">X[2] &lt;= 4.95</text>\r\n",
       "<text text-anchor=\"middle\" x=\"160\" y=\"-126.8\" font-family=\"Times New Roman,serif\" font-size=\"14.00\">gini = 0.092</text>\r\n",
       "<text text-anchor=\"middle\" x=\"160\" y=\"-111.8\" font-family=\"Times New Roman,serif\" font-size=\"14.00\">samples = 104</text>\r\n",
       "<text text-anchor=\"middle\" x=\"160\" y=\"-96.8\" font-family=\"Times New Roman,serif\" font-size=\"14.00\">value = [5, 99]</text>\r\n",
       "</g>\r\n",
       "<!-- 0&#45;&gt;1 -->\r\n",
       "<g id=\"edge1\" class=\"edge\"><title>0&#45;&gt;1</title>\r\n",
       "<path fill=\"none\" stroke=\"black\" d=\"M199.169,-192.884C194.307,-184.332 189.008,-175.013 183.923,-166.072\"/>\r\n",
       "<polygon fill=\"black\" stroke=\"black\" points=\"186.921,-164.262 178.935,-157.299 180.835,-167.722 186.921,-164.262\"/>\r\n",
       "<text text-anchor=\"middle\" x=\"172.306\" y=\"-177.704\" font-family=\"Times New Roman,serif\" font-size=\"14.00\">True</text>\r\n",
       "</g>\r\n",
       "<!-- 4 -->\r\n",
       "<g id=\"node5\" class=\"node\"><title>4</title>\r\n",
       "<polygon fill=\"none\" stroke=\"black\" points=\"325,-157 227,-157 227,-89 325,-89 325,-157\"/>\r\n",
       "<text text-anchor=\"middle\" x=\"276\" y=\"-141.8\" font-family=\"Times New Roman,serif\" font-size=\"14.00\">X[2] &lt;= 4.85</text>\r\n",
       "<text text-anchor=\"middle\" x=\"276\" y=\"-126.8\" font-family=\"Times New Roman,serif\" font-size=\"14.00\">gini = 0.043</text>\r\n",
       "<text text-anchor=\"middle\" x=\"276\" y=\"-111.8\" font-family=\"Times New Roman,serif\" font-size=\"14.00\">samples = 46</text>\r\n",
       "<text text-anchor=\"middle\" x=\"276\" y=\"-96.8\" font-family=\"Times New Roman,serif\" font-size=\"14.00\">value = [45, 1]</text>\r\n",
       "</g>\r\n",
       "<!-- 0&#45;&gt;4 -->\r\n",
       "<g id=\"edge4\" class=\"edge\"><title>0&#45;&gt;4</title>\r\n",
       "<path fill=\"none\" stroke=\"black\" d=\"M236.831,-192.884C241.693,-184.332 246.992,-175.013 252.077,-166.072\"/>\r\n",
       "<polygon fill=\"black\" stroke=\"black\" points=\"255.165,-167.722 257.065,-157.299 249.079,-164.262 255.165,-167.722\"/>\r\n",
       "<text text-anchor=\"middle\" x=\"263.694\" y=\"-177.704\" font-family=\"Times New Roman,serif\" font-size=\"14.00\">False</text>\r\n",
       "</g>\r\n",
       "<!-- 2 -->\r\n",
       "<g id=\"node3\" class=\"node\"><title>2</title>\r\n",
       "<polygon fill=\"none\" stroke=\"black\" points=\"98,-53 0,-53 0,-0 98,-0 98,-53\"/>\r\n",
       "<text text-anchor=\"middle\" x=\"49\" y=\"-37.8\" font-family=\"Times New Roman,serif\" font-size=\"14.00\">gini = 0.02</text>\r\n",
       "<text text-anchor=\"middle\" x=\"49\" y=\"-22.8\" font-family=\"Times New Roman,serif\" font-size=\"14.00\">samples = 98</text>\r\n",
       "<text text-anchor=\"middle\" x=\"49\" y=\"-7.8\" font-family=\"Times New Roman,serif\" font-size=\"14.00\">value = [1, 97]</text>\r\n",
       "</g>\r\n",
       "<!-- 1&#45;&gt;2 -->\r\n",
       "<g id=\"edge2\" class=\"edge\"><title>1&#45;&gt;2</title>\r\n",
       "<path fill=\"none\" stroke=\"black\" d=\"M121.178,-88.9485C110.11,-79.526 98.0669,-69.2731 87.046,-59.8906\"/>\r\n",
       "<polygon fill=\"black\" stroke=\"black\" points=\"89.1136,-57.0542 79.2304,-53.2367 84.5759,-62.3842 89.1136,-57.0542\"/>\r\n",
       "</g>\r\n",
       "<!-- 3 -->\r\n",
       "<g id=\"node4\" class=\"node\"><title>3</title>\r\n",
       "<polygon fill=\"none\" stroke=\"black\" points=\"207.5,-53 116.5,-53 116.5,-0 207.5,-0 207.5,-53\"/>\r\n",
       "<text text-anchor=\"middle\" x=\"162\" y=\"-37.8\" font-family=\"Times New Roman,serif\" font-size=\"14.00\">gini = 0.444</text>\r\n",
       "<text text-anchor=\"middle\" x=\"162\" y=\"-22.8\" font-family=\"Times New Roman,serif\" font-size=\"14.00\">samples = 6</text>\r\n",
       "<text text-anchor=\"middle\" x=\"162\" y=\"-7.8\" font-family=\"Times New Roman,serif\" font-size=\"14.00\">value = [4, 2]</text>\r\n",
       "</g>\r\n",
       "<!-- 1&#45;&gt;3 -->\r\n",
       "<g id=\"edge3\" class=\"edge\"><title>1&#45;&gt;3</title>\r\n",
       "<path fill=\"none\" stroke=\"black\" d=\"M160.7,-88.9485C160.874,-80.7153 161.061,-71.848 161.238,-63.4814\"/>\r\n",
       "<polygon fill=\"black\" stroke=\"black\" points=\"164.743,-63.3086 161.455,-53.2367 157.744,-63.1604 164.743,-63.3086\"/>\r\n",
       "</g>\r\n",
       "<!-- 5 -->\r\n",
       "<g id=\"node6\" class=\"node\"><title>5</title>\r\n",
       "<polygon fill=\"none\" stroke=\"black\" points=\"319.5,-53 228.5,-53 228.5,-0 319.5,-0 319.5,-53\"/>\r\n",
       "<text text-anchor=\"middle\" x=\"274\" y=\"-37.8\" font-family=\"Times New Roman,serif\" font-size=\"14.00\">gini = 0.444</text>\r\n",
       "<text text-anchor=\"middle\" x=\"274\" y=\"-22.8\" font-family=\"Times New Roman,serif\" font-size=\"14.00\">samples = 3</text>\r\n",
       "<text text-anchor=\"middle\" x=\"274\" y=\"-7.8\" font-family=\"Times New Roman,serif\" font-size=\"14.00\">value = [2, 1]</text>\r\n",
       "</g>\r\n",
       "<!-- 4&#45;&gt;5 -->\r\n",
       "<g id=\"edge5\" class=\"edge\"><title>4&#45;&gt;5</title>\r\n",
       "<path fill=\"none\" stroke=\"black\" d=\"M275.3,-88.9485C275.126,-80.7153 274.939,-71.848 274.762,-63.4814\"/>\r\n",
       "<polygon fill=\"black\" stroke=\"black\" points=\"278.256,-63.1604 274.545,-53.2367 271.257,-63.3086 278.256,-63.1604\"/>\r\n",
       "</g>\r\n",
       "<!-- 6 -->\r\n",
       "<g id=\"node7\" class=\"node\"><title>6</title>\r\n",
       "<polygon fill=\"none\" stroke=\"black\" points=\"436,-53 338,-53 338,-0 436,-0 436,-53\"/>\r\n",
       "<text text-anchor=\"middle\" x=\"387\" y=\"-37.8\" font-family=\"Times New Roman,serif\" font-size=\"14.00\">gini = 0.0</text>\r\n",
       "<text text-anchor=\"middle\" x=\"387\" y=\"-22.8\" font-family=\"Times New Roman,serif\" font-size=\"14.00\">samples = 43</text>\r\n",
       "<text text-anchor=\"middle\" x=\"387\" y=\"-7.8\" font-family=\"Times New Roman,serif\" font-size=\"14.00\">value = [43, 0]</text>\r\n",
       "</g>\r\n",
       "<!-- 4&#45;&gt;6 -->\r\n",
       "<g id=\"edge6\" class=\"edge\"><title>4&#45;&gt;6</title>\r\n",
       "<path fill=\"none\" stroke=\"black\" d=\"M314.822,-88.9485C325.89,-79.526 337.933,-69.2731 348.954,-59.8906\"/>\r\n",
       "<polygon fill=\"black\" stroke=\"black\" points=\"351.424,-62.3842 356.77,-53.2367 346.886,-57.0542 351.424,-62.3842\"/>\r\n",
       "</g>\r\n",
       "</g>\r\n",
       "</svg>\r\n"
      ],
      "text/plain": [
       "<graphviz.files.Source at 0x1cc53ccdac8>"
      ]
     },
     "execution_count": 23,
     "metadata": {},
     "output_type": "execute_result"
    }
   ],
   "source": [
    "tree_data = tree.export_graphviz(clf, out_file=None)\n",
    "graphviz.Source(tree_data)"
   ]
  },
  {
   "cell_type": "markdown",
   "metadata": {},
   "source": [
    "Можем построить дерево большей глубины"
   ]
  },
  {
   "cell_type": "code",
   "execution_count": 24,
   "metadata": {},
   "outputs": [
    {
     "data": {
      "image/svg+xml": [
       "<?xml version=\"1.0\" encoding=\"UTF-8\" standalone=\"no\"?>\r\n",
       "<!DOCTYPE svg PUBLIC \"-//W3C//DTD SVG 1.1//EN\"\r\n",
       " \"http://www.w3.org/Graphics/SVG/1.1/DTD/svg11.dtd\">\r\n",
       "<!-- Generated by graphviz version 2.38.0 (20140413.2041)\r\n",
       " -->\r\n",
       "<!-- Title: Tree Pages: 1 -->\r\n",
       "<svg width=\"659pt\" height=\"477pt\"\r\n",
       " viewBox=\"0.00 0.00 659.00 477.00\" xmlns=\"http://www.w3.org/2000/svg\" xmlns:xlink=\"http://www.w3.org/1999/xlink\">\r\n",
       "<g id=\"graph0\" class=\"graph\" transform=\"scale(1 1) rotate(0) translate(4 473)\">\r\n",
       "<title>Tree</title>\r\n",
       "<polygon fill=\"white\" stroke=\"none\" points=\"-4,4 -4,-473 655,-473 655,4 -4,4\"/>\r\n",
       "<!-- 0 -->\r\n",
       "<g id=\"node1\" class=\"node\"><title>0</title>\r\n",
       "<polygon fill=\"none\" stroke=\"black\" points=\"461.5,-469 350.5,-469 350.5,-401 461.5,-401 461.5,-469\"/>\r\n",
       "<text text-anchor=\"middle\" x=\"406\" y=\"-453.8\" font-family=\"Times New Roman,serif\" font-size=\"14.00\">X[3] &lt;= 1.75</text>\r\n",
       "<text text-anchor=\"middle\" x=\"406\" y=\"-438.8\" font-family=\"Times New Roman,serif\" font-size=\"14.00\">gini = 0.444</text>\r\n",
       "<text text-anchor=\"middle\" x=\"406\" y=\"-423.8\" font-family=\"Times New Roman,serif\" font-size=\"14.00\">samples = 150</text>\r\n",
       "<text text-anchor=\"middle\" x=\"406\" y=\"-408.8\" font-family=\"Times New Roman,serif\" font-size=\"14.00\">value = [50, 100]</text>\r\n",
       "</g>\r\n",
       "<!-- 1 -->\r\n",
       "<g id=\"node2\" class=\"node\"><title>1</title>\r\n",
       "<polygon fill=\"none\" stroke=\"black\" points=\"373,-365 275,-365 275,-297 373,-297 373,-365\"/>\r\n",
       "<text text-anchor=\"middle\" x=\"324\" y=\"-349.8\" font-family=\"Times New Roman,serif\" font-size=\"14.00\">X[2] &lt;= 4.95</text>\r\n",
       "<text text-anchor=\"middle\" x=\"324\" y=\"-334.8\" font-family=\"Times New Roman,serif\" font-size=\"14.00\">gini = 0.092</text>\r\n",
       "<text text-anchor=\"middle\" x=\"324\" y=\"-319.8\" font-family=\"Times New Roman,serif\" font-size=\"14.00\">samples = 104</text>\r\n",
       "<text text-anchor=\"middle\" x=\"324\" y=\"-304.8\" font-family=\"Times New Roman,serif\" font-size=\"14.00\">value = [5, 99]</text>\r\n",
       "</g>\r\n",
       "<!-- 0&#45;&gt;1 -->\r\n",
       "<g id=\"edge1\" class=\"edge\"><title>0&#45;&gt;1</title>\r\n",
       "<path fill=\"none\" stroke=\"black\" d=\"M379.377,-400.884C372.288,-392.065 364.542,-382.43 357.15,-373.235\"/>\r\n",
       "<polygon fill=\"black\" stroke=\"black\" points=\"359.764,-370.9 350.77,-365.299 354.308,-375.286 359.764,-370.9\"/>\r\n",
       "<text text-anchor=\"middle\" x=\"348.069\" y=\"-386.453\" font-family=\"Times New Roman,serif\" font-size=\"14.00\">True</text>\r\n",
       "</g>\r\n",
       "<!-- 10 -->\r\n",
       "<g id=\"node11\" class=\"node\"><title>10</title>\r\n",
       "<polygon fill=\"none\" stroke=\"black\" points=\"538,-365 440,-365 440,-297 538,-297 538,-365\"/>\r\n",
       "<text text-anchor=\"middle\" x=\"489\" y=\"-349.8\" font-family=\"Times New Roman,serif\" font-size=\"14.00\">X[2] &lt;= 4.85</text>\r\n",
       "<text text-anchor=\"middle\" x=\"489\" y=\"-334.8\" font-family=\"Times New Roman,serif\" font-size=\"14.00\">gini = 0.043</text>\r\n",
       "<text text-anchor=\"middle\" x=\"489\" y=\"-319.8\" font-family=\"Times New Roman,serif\" font-size=\"14.00\">samples = 46</text>\r\n",
       "<text text-anchor=\"middle\" x=\"489\" y=\"-304.8\" font-family=\"Times New Roman,serif\" font-size=\"14.00\">value = [45, 1]</text>\r\n",
       "</g>\r\n",
       "<!-- 0&#45;&gt;10 -->\r\n",
       "<g id=\"edge10\" class=\"edge\"><title>0&#45;&gt;10</title>\r\n",
       "<path fill=\"none\" stroke=\"black\" d=\"M432.948,-400.884C440.123,-392.065 447.964,-382.43 455.446,-373.235\"/>\r\n",
       "<polygon fill=\"black\" stroke=\"black\" points=\"458.307,-375.265 461.903,-365.299 452.877,-370.847 458.307,-375.265\"/>\r\n",
       "<text text-anchor=\"middle\" x=\"464.458\" y=\"-386.469\" font-family=\"Times New Roman,serif\" font-size=\"14.00\">False</text>\r\n",
       "</g>\r\n",
       "<!-- 2 -->\r\n",
       "<g id=\"node3\" class=\"node\"><title>2</title>\r\n",
       "<polygon fill=\"none\" stroke=\"black\" points=\"211,-261 113,-261 113,-193 211,-193 211,-261\"/>\r\n",
       "<text text-anchor=\"middle\" x=\"162\" y=\"-245.8\" font-family=\"Times New Roman,serif\" font-size=\"14.00\">X[3] &lt;= 1.65</text>\r\n",
       "<text text-anchor=\"middle\" x=\"162\" y=\"-230.8\" font-family=\"Times New Roman,serif\" font-size=\"14.00\">gini = 0.02</text>\r\n",
       "<text text-anchor=\"middle\" x=\"162\" y=\"-215.8\" font-family=\"Times New Roman,serif\" font-size=\"14.00\">samples = 98</text>\r\n",
       "<text text-anchor=\"middle\" x=\"162\" y=\"-200.8\" font-family=\"Times New Roman,serif\" font-size=\"14.00\">value = [1, 97]</text>\r\n",
       "</g>\r\n",
       "<!-- 1&#45;&gt;2 -->\r\n",
       "<g id=\"edge2\" class=\"edge\"><title>1&#45;&gt;2</title>\r\n",
       "<path fill=\"none\" stroke=\"black\" d=\"M274.955,-299.12C257.588,-288.185 237.888,-275.781 219.857,-264.429\"/>\r\n",
       "<polygon fill=\"black\" stroke=\"black\" points=\"221.485,-261.317 211.158,-258.951 217.755,-267.241 221.485,-261.317\"/>\r\n",
       "</g>\r\n",
       "<!-- 5 -->\r\n",
       "<g id=\"node6\" class=\"node\"><title>5</title>\r\n",
       "<polygon fill=\"none\" stroke=\"black\" points=\"369.5,-261 278.5,-261 278.5,-193 369.5,-193 369.5,-261\"/>\r\n",
       "<text text-anchor=\"middle\" x=\"324\" y=\"-245.8\" font-family=\"Times New Roman,serif\" font-size=\"14.00\">X[3] &lt;= 1.55</text>\r\n",
       "<text text-anchor=\"middle\" x=\"324\" y=\"-230.8\" font-family=\"Times New Roman,serif\" font-size=\"14.00\">gini = 0.444</text>\r\n",
       "<text text-anchor=\"middle\" x=\"324\" y=\"-215.8\" font-family=\"Times New Roman,serif\" font-size=\"14.00\">samples = 6</text>\r\n",
       "<text text-anchor=\"middle\" x=\"324\" y=\"-200.8\" font-family=\"Times New Roman,serif\" font-size=\"14.00\">value = [4, 2]</text>\r\n",
       "</g>\r\n",
       "<!-- 1&#45;&gt;5 -->\r\n",
       "<g id=\"edge5\" class=\"edge\"><title>1&#45;&gt;5</title>\r\n",
       "<path fill=\"none\" stroke=\"black\" d=\"M324,-296.884C324,-288.778 324,-279.982 324,-271.472\"/>\r\n",
       "<polygon fill=\"black\" stroke=\"black\" points=\"327.5,-271.299 324,-261.299 320.5,-271.299 327.5,-271.299\"/>\r\n",
       "</g>\r\n",
       "<!-- 3 -->\r\n",
       "<g id=\"node4\" class=\"node\"><title>3</title>\r\n",
       "<polygon fill=\"none\" stroke=\"black\" points=\"98,-149.5 0,-149.5 0,-96.5 98,-96.5 98,-149.5\"/>\r\n",
       "<text text-anchor=\"middle\" x=\"49\" y=\"-134.3\" font-family=\"Times New Roman,serif\" font-size=\"14.00\">gini = 0.0</text>\r\n",
       "<text text-anchor=\"middle\" x=\"49\" y=\"-119.3\" font-family=\"Times New Roman,serif\" font-size=\"14.00\">samples = 97</text>\r\n",
       "<text text-anchor=\"middle\" x=\"49\" y=\"-104.3\" font-family=\"Times New Roman,serif\" font-size=\"14.00\">value = [0, 97]</text>\r\n",
       "</g>\r\n",
       "<!-- 2&#45;&gt;3 -->\r\n",
       "<g id=\"edge3\" class=\"edge\"><title>2&#45;&gt;3</title>\r\n",
       "<path fill=\"none\" stroke=\"black\" d=\"M125.312,-192.884C112.397,-181.226 97.9009,-168.141 85.0398,-156.532\"/>\r\n",
       "<polygon fill=\"black\" stroke=\"black\" points=\"87.0404,-153.622 77.2721,-149.52 82.35,-158.819 87.0404,-153.622\"/>\r\n",
       "</g>\r\n",
       "<!-- 4 -->\r\n",
       "<g id=\"node5\" class=\"node\"><title>4</title>\r\n",
       "<polygon fill=\"none\" stroke=\"black\" points=\"207.5,-149.5 116.5,-149.5 116.5,-96.5 207.5,-96.5 207.5,-149.5\"/>\r\n",
       "<text text-anchor=\"middle\" x=\"162\" y=\"-134.3\" font-family=\"Times New Roman,serif\" font-size=\"14.00\">gini = 0.0</text>\r\n",
       "<text text-anchor=\"middle\" x=\"162\" y=\"-119.3\" font-family=\"Times New Roman,serif\" font-size=\"14.00\">samples = 1</text>\r\n",
       "<text text-anchor=\"middle\" x=\"162\" y=\"-104.3\" font-family=\"Times New Roman,serif\" font-size=\"14.00\">value = [1, 0]</text>\r\n",
       "</g>\r\n",
       "<!-- 2&#45;&gt;4 -->\r\n",
       "<g id=\"edge4\" class=\"edge\"><title>2&#45;&gt;4</title>\r\n",
       "<path fill=\"none\" stroke=\"black\" d=\"M162,-192.884C162,-182.326 162,-170.597 162,-159.854\"/>\r\n",
       "<polygon fill=\"black\" stroke=\"black\" points=\"165.5,-159.52 162,-149.52 158.5,-159.52 165.5,-159.52\"/>\r\n",
       "</g>\r\n",
       "<!-- 6 -->\r\n",
       "<g id=\"node7\" class=\"node\"><title>6</title>\r\n",
       "<polygon fill=\"none\" stroke=\"black\" points=\"316.5,-149.5 225.5,-149.5 225.5,-96.5 316.5,-96.5 316.5,-149.5\"/>\r\n",
       "<text text-anchor=\"middle\" x=\"271\" y=\"-134.3\" font-family=\"Times New Roman,serif\" font-size=\"14.00\">gini = 0.0</text>\r\n",
       "<text text-anchor=\"middle\" x=\"271\" y=\"-119.3\" font-family=\"Times New Roman,serif\" font-size=\"14.00\">samples = 3</text>\r\n",
       "<text text-anchor=\"middle\" x=\"271\" y=\"-104.3\" font-family=\"Times New Roman,serif\" font-size=\"14.00\">value = [3, 0]</text>\r\n",
       "</g>\r\n",
       "<!-- 5&#45;&gt;6 -->\r\n",
       "<g id=\"edge6\" class=\"edge\"><title>5&#45;&gt;6</title>\r\n",
       "<path fill=\"none\" stroke=\"black\" d=\"M306.792,-192.884C301.078,-181.886 294.703,-169.617 288.935,-158.517\"/>\r\n",
       "<polygon fill=\"black\" stroke=\"black\" points=\"291.977,-156.78 284.26,-149.52 285.765,-160.007 291.977,-156.78\"/>\r\n",
       "</g>\r\n",
       "<!-- 7 -->\r\n",
       "<g id=\"node8\" class=\"node\"><title>7</title>\r\n",
       "<polygon fill=\"none\" stroke=\"black\" points=\"425.5,-157 334.5,-157 334.5,-89 425.5,-89 425.5,-157\"/>\r\n",
       "<text text-anchor=\"middle\" x=\"380\" y=\"-141.8\" font-family=\"Times New Roman,serif\" font-size=\"14.00\">X[2] &lt;= 5.45</text>\r\n",
       "<text text-anchor=\"middle\" x=\"380\" y=\"-126.8\" font-family=\"Times New Roman,serif\" font-size=\"14.00\">gini = 0.444</text>\r\n",
       "<text text-anchor=\"middle\" x=\"380\" y=\"-111.8\" font-family=\"Times New Roman,serif\" font-size=\"14.00\">samples = 3</text>\r\n",
       "<text text-anchor=\"middle\" x=\"380\" y=\"-96.8\" font-family=\"Times New Roman,serif\" font-size=\"14.00\">value = [1, 2]</text>\r\n",
       "</g>\r\n",
       "<!-- 5&#45;&gt;7 -->\r\n",
       "<g id=\"edge7\" class=\"edge\"><title>5&#45;&gt;7</title>\r\n",
       "<path fill=\"none\" stroke=\"black\" d=\"M342.182,-192.884C346.876,-184.332 351.993,-175.013 356.902,-166.072\"/>\r\n",
       "<polygon fill=\"black\" stroke=\"black\" points=\"359.973,-167.75 361.718,-157.299 353.837,-164.381 359.973,-167.75\"/>\r\n",
       "</g>\r\n",
       "<!-- 8 -->\r\n",
       "<g id=\"node9\" class=\"node\"><title>8</title>\r\n",
       "<polygon fill=\"none\" stroke=\"black\" points=\"370.5,-53 279.5,-53 279.5,-0 370.5,-0 370.5,-53\"/>\r\n",
       "<text text-anchor=\"middle\" x=\"325\" y=\"-37.8\" font-family=\"Times New Roman,serif\" font-size=\"14.00\">gini = 0.0</text>\r\n",
       "<text text-anchor=\"middle\" x=\"325\" y=\"-22.8\" font-family=\"Times New Roman,serif\" font-size=\"14.00\">samples = 2</text>\r\n",
       "<text text-anchor=\"middle\" x=\"325\" y=\"-7.8\" font-family=\"Times New Roman,serif\" font-size=\"14.00\">value = [0, 2]</text>\r\n",
       "</g>\r\n",
       "<!-- 7&#45;&gt;8 -->\r\n",
       "<g id=\"edge8\" class=\"edge\"><title>7&#45;&gt;8</title>\r\n",
       "<path fill=\"none\" stroke=\"black\" d=\"M360.764,-88.9485C355.706,-80.2579 350.236,-70.8608 345.133,-62.0917\"/>\r\n",
       "<polygon fill=\"black\" stroke=\"black\" points=\"348.034,-60.1189 339.979,-53.2367 341.984,-63.6401 348.034,-60.1189\"/>\r\n",
       "</g>\r\n",
       "<!-- 9 -->\r\n",
       "<g id=\"node10\" class=\"node\"><title>9</title>\r\n",
       "<polygon fill=\"none\" stroke=\"black\" points=\"479.5,-53 388.5,-53 388.5,-0 479.5,-0 479.5,-53\"/>\r\n",
       "<text text-anchor=\"middle\" x=\"434\" y=\"-37.8\" font-family=\"Times New Roman,serif\" font-size=\"14.00\">gini = 0.0</text>\r\n",
       "<text text-anchor=\"middle\" x=\"434\" y=\"-22.8\" font-family=\"Times New Roman,serif\" font-size=\"14.00\">samples = 1</text>\r\n",
       "<text text-anchor=\"middle\" x=\"434\" y=\"-7.8\" font-family=\"Times New Roman,serif\" font-size=\"14.00\">value = [1, 0]</text>\r\n",
       "</g>\r\n",
       "<!-- 7&#45;&gt;9 -->\r\n",
       "<g id=\"edge9\" class=\"edge\"><title>7&#45;&gt;9</title>\r\n",
       "<path fill=\"none\" stroke=\"black\" d=\"M398.887,-88.9485C403.853,-80.2579 409.222,-70.8608 414.233,-62.0917\"/>\r\n",
       "<polygon fill=\"black\" stroke=\"black\" points=\"417.371,-63.6557 419.293,-53.2367 411.293,-60.1826 417.371,-63.6557\"/>\r\n",
       "</g>\r\n",
       "<!-- 11 -->\r\n",
       "<g id=\"node12\" class=\"node\"><title>11</title>\r\n",
       "<polygon fill=\"none\" stroke=\"black\" points=\"534.5,-261 443.5,-261 443.5,-193 534.5,-193 534.5,-261\"/>\r\n",
       "<text text-anchor=\"middle\" x=\"489\" y=\"-245.8\" font-family=\"Times New Roman,serif\" font-size=\"14.00\">X[0] &lt;= 5.95</text>\r\n",
       "<text text-anchor=\"middle\" x=\"489\" y=\"-230.8\" font-family=\"Times New Roman,serif\" font-size=\"14.00\">gini = 0.444</text>\r\n",
       "<text text-anchor=\"middle\" x=\"489\" y=\"-215.8\" font-family=\"Times New Roman,serif\" font-size=\"14.00\">samples = 3</text>\r\n",
       "<text text-anchor=\"middle\" x=\"489\" y=\"-200.8\" font-family=\"Times New Roman,serif\" font-size=\"14.00\">value = [2, 1]</text>\r\n",
       "</g>\r\n",
       "<!-- 10&#45;&gt;11 -->\r\n",
       "<g id=\"edge11\" class=\"edge\"><title>10&#45;&gt;11</title>\r\n",
       "<path fill=\"none\" stroke=\"black\" d=\"M489,-296.884C489,-288.778 489,-279.982 489,-271.472\"/>\r\n",
       "<polygon fill=\"black\" stroke=\"black\" points=\"492.5,-271.299 489,-261.299 485.5,-271.299 492.5,-271.299\"/>\r\n",
       "</g>\r\n",
       "<!-- 14 -->\r\n",
       "<g id=\"node15\" class=\"node\"><title>14</title>\r\n",
       "<polygon fill=\"none\" stroke=\"black\" points=\"651,-253.5 553,-253.5 553,-200.5 651,-200.5 651,-253.5\"/>\r\n",
       "<text text-anchor=\"middle\" x=\"602\" y=\"-238.3\" font-family=\"Times New Roman,serif\" font-size=\"14.00\">gini = 0.0</text>\r\n",
       "<text text-anchor=\"middle\" x=\"602\" y=\"-223.3\" font-family=\"Times New Roman,serif\" font-size=\"14.00\">samples = 43</text>\r\n",
       "<text text-anchor=\"middle\" x=\"602\" y=\"-208.3\" font-family=\"Times New Roman,serif\" font-size=\"14.00\">value = [43, 0]</text>\r\n",
       "</g>\r\n",
       "<!-- 10&#45;&gt;14 -->\r\n",
       "<g id=\"edge14\" class=\"edge\"><title>10&#45;&gt;14</title>\r\n",
       "<path fill=\"none\" stroke=\"black\" d=\"M525.688,-296.884C538.603,-285.226 553.099,-272.141 565.96,-260.532\"/>\r\n",
       "<polygon fill=\"black\" stroke=\"black\" points=\"568.65,-262.819 573.728,-253.52 563.96,-257.622 568.65,-262.819\"/>\r\n",
       "</g>\r\n",
       "<!-- 12 -->\r\n",
       "<g id=\"node13\" class=\"node\"><title>12</title>\r\n",
       "<polygon fill=\"none\" stroke=\"black\" points=\"534.5,-149.5 443.5,-149.5 443.5,-96.5 534.5,-96.5 534.5,-149.5\"/>\r\n",
       "<text text-anchor=\"middle\" x=\"489\" y=\"-134.3\" font-family=\"Times New Roman,serif\" font-size=\"14.00\">gini = 0.0</text>\r\n",
       "<text text-anchor=\"middle\" x=\"489\" y=\"-119.3\" font-family=\"Times New Roman,serif\" font-size=\"14.00\">samples = 1</text>\r\n",
       "<text text-anchor=\"middle\" x=\"489\" y=\"-104.3\" font-family=\"Times New Roman,serif\" font-size=\"14.00\">value = [0, 1]</text>\r\n",
       "</g>\r\n",
       "<!-- 11&#45;&gt;12 -->\r\n",
       "<g id=\"edge12\" class=\"edge\"><title>11&#45;&gt;12</title>\r\n",
       "<path fill=\"none\" stroke=\"black\" d=\"M489,-192.884C489,-182.326 489,-170.597 489,-159.854\"/>\r\n",
       "<polygon fill=\"black\" stroke=\"black\" points=\"492.5,-159.52 489,-149.52 485.5,-159.52 492.5,-159.52\"/>\r\n",
       "</g>\r\n",
       "<!-- 13 -->\r\n",
       "<g id=\"node14\" class=\"node\"><title>13</title>\r\n",
       "<polygon fill=\"none\" stroke=\"black\" points=\"643.5,-149.5 552.5,-149.5 552.5,-96.5 643.5,-96.5 643.5,-149.5\"/>\r\n",
       "<text text-anchor=\"middle\" x=\"598\" y=\"-134.3\" font-family=\"Times New Roman,serif\" font-size=\"14.00\">gini = 0.0</text>\r\n",
       "<text text-anchor=\"middle\" x=\"598\" y=\"-119.3\" font-family=\"Times New Roman,serif\" font-size=\"14.00\">samples = 2</text>\r\n",
       "<text text-anchor=\"middle\" x=\"598\" y=\"-104.3\" font-family=\"Times New Roman,serif\" font-size=\"14.00\">value = [2, 0]</text>\r\n",
       "</g>\r\n",
       "<!-- 11&#45;&gt;13 -->\r\n",
       "<g id=\"edge13\" class=\"edge\"><title>11&#45;&gt;13</title>\r\n",
       "<path fill=\"none\" stroke=\"black\" d=\"M524.389,-192.884C536.847,-181.226 550.83,-168.141 563.236,-156.532\"/>\r\n",
       "<polygon fill=\"black\" stroke=\"black\" points=\"565.819,-158.908 570.729,-149.52 561.036,-153.797 565.819,-158.908\"/>\r\n",
       "</g>\r\n",
       "</g>\r\n",
       "</svg>\r\n"
      ],
      "text/plain": [
       "<graphviz.files.Source at 0x1cc53ca1ef0>"
      ]
     },
     "execution_count": 24,
     "metadata": {},
     "output_type": "execute_result"
    }
   ],
   "source": [
    "from sklearn import tree\n",
    "clf = tree.DecisionTreeClassifier(max_depth=5)\n",
    "clf.fit(data, y);\n",
    "tree_data = tree.export_graphviz(clf, out_file=None)\n",
    "graphviz.Source(tree_data)"
   ]
  },
  {
   "cell_type": "markdown",
   "metadata": {},
   "source": [
    "Полученное дерево уже научилось различать все примеры"
   ]
  },
  {
   "cell_type": "markdown",
   "metadata": {},
   "source": [
    "Вот тут есть красивая демонстрация того, как работает классификатор в виде решающего дерева\n",
    "http://scikit-learn.org/stable/auto_examples/tree/plot_iris.html#sphx-glr-auto-examples-tree-plot-iris-py\n",
    "Обратите внимание, что области, отнесенные к каждому классу составлены из прямоугольников. Это всегда получается так при использовании решающих деревьев."
   ]
  },
  {
   "cell_type": "markdown",
   "metadata": {},
   "source": [
    "Давайте теперь вспомним, что правильно обучаться и проверяться на разных множествах. Пример с ирисами не очень интересный: их на самом деле довольно легко различать, поэтому давайте посмотрим на датасет про пульсары:"
   ]
  },
  {
   "cell_type": "code",
   "execution_count": 44,
   "metadata": {},
   "outputs": [],
   "source": [
    "from sklearn.model_selection import train_test_split\n",
    "\n",
    "data1 = pd.read_csv('pulsar_stars.csv')\n",
    "\n",
    "X = data1.drop(columns=['target_class'])\n",
    "Y = data1['target_class']\n",
    "X_train, X_test, Y_train, Y_test = train_test_split(X, Y, test_size=0.33, random_state=42)"
   ]
  },
  {
   "cell_type": "code",
   "execution_count": null,
   "metadata": {},
   "outputs": [],
   "source": [
    "Обучим классификатор и посмотрим на его accuracy:"
   ]
  },
  {
   "cell_type": "code",
   "execution_count": 192,
   "metadata": {},
   "outputs": [
    {
     "name": "stdout",
     "output_type": "stream",
     "text": [
      "0.9783307939732521\n"
     ]
    }
   ],
   "source": [
    "    clf = tree.DecisionTreeClassifier(max_depth=3)\n",
    "    clf.fit(X_train, Y_train);\n",
    "    score = clf.score(X_test, Y_test) #, sample_weight=1 + 10 * Y_test )\n",
    "    print(score)"
   ]
  },
  {
   "cell_type": "markdown",
   "metadata": {},
   "source": [
    "__Задание__: Посмотрите, как качество на тесте зависит от глубины дерева. При какой глубине качество наилучшее? "
   ]
  },
  {
   "cell_type": "markdown",
   "metadata": {},
   "source": [
    "Как вы увидели в предыдущей задаче, при большой глубине дерева классификатор может сильно переобучаться. Есть полезный трюк, который позволяет частично решить \n",
    "эту проблему: можно обучить несколько разных деревьев и усреднить их предсказания. Каждое из них будет переобучаться по разному, поэтому если усреднить их предсказания ошибка скорее всего будет меньше. Для того, чтобы деревья действительно получались разными, будем обучать их на немного разных множествах данных. Такой подход называется Random Forest (случайный лес)"
   ]
  },
  {
   "cell_type": "markdown",
   "metadata": {},
   "source": [
    "__Задание__: Дополните реализацию этого алгоритма"
   ]
  },
  {
   "cell_type": "code",
   "execution_count": null,
   "metadata": {},
   "outputs": [],
   "source": [
    "    ntrees = 11\n",
    "    res = np.zeros(Y_test.shape) # Здесь мы будем сохранять результаты каждого отдельного дерева\n",
    "    for i in range(ntrees):\n",
    "            X_train1, _, Y_train1, _ = train_test_split(X_train, Y_train, test_size=0.2) # Выберем случайное подмножество трейна\n",
    "            ??? \n",
    "            ... # тут нужно обучить решающее дерево на X_train1 и применить к X_test \n",
    "            ???\n",
    "    pred = ??? # и из предсказаний каждого классификатора сделать одно \"усредненное\"\n",
    "    print(np.mean(pred==Y_test))"
   ]
  },
  {
   "cell_type": "markdown",
   "metadata": {},
   "source": [
    "Естественно, в sklearn есть класс в котором все это реализовано за вас:"
   ]
  },
  {
   "cell_type": "code",
   "execution_count": 201,
   "metadata": {},
   "outputs": [],
   "source": [
    "from sklearn.ensemble import RandomForestClassifier\n",
    "clf = RandomForestClassifier( n_estimators=11, max_depth=10)"
   ]
  },
  {
   "cell_type": "markdown",
   "metadata": {},
   "source": [
    "__Задание__: Посмотрите, как качество на тесте зависит от глубины дерева и от количества деревьев в \"лесу\". "
   ]
  },
  {
   "cell_type": "markdown",
   "metadata": {},
   "source": [
    "Как можно догадаться из названия модуля, методы обучения, в которых комбинируется предсказания  несколькоих моделей называются ансамблями. Кроме описанного варианта есть еще один возможный подход: учить деревья не независимо, а последовательно и каждое следующее выбирать так, чтобы оно исправляло ошибки предыдущих деревьев. Такой подход называется \"градиентный бустинг\" и реализован в классе"
   ]
  },
  {
   "cell_type": "code",
   "execution_count": 160,
   "metadata": {},
   "outputs": [],
   "source": [
    "from sklearn.ensemble import GradientBoostingClassifier"
   ]
  },
  {
   "cell_type": "code",
   "execution_count": 215,
   "metadata": {},
   "outputs": [],
   "source": [
    "clf = GradientBoostingClassifier(learning_rate=0.05, n_estimators=100, loss='exponential')"
   ]
  },
  {
   "cell_type": "code",
   "execution_count": 216,
   "metadata": {},
   "outputs": [
    {
     "data": {
      "text/plain": [
       "0.9807008633824277"
      ]
     },
     "execution_count": 216,
     "metadata": {},
     "output_type": "execute_result"
    }
   ],
   "source": [
    "clf.fit(X_train, Y_train);\n",
    "clf.score(X_test, Y_test)"
   ]
  },
  {
   "cell_type": "markdown",
   "metadata": {},
   "source": [
    "Этот подход часто дает очень хорошие результаты, но он очень чувствителен к гиперпараметрам (число веревьев, их глубина, \"скорость обучения\" -- вес, с которым новые деревья добавляются к уже существующим)"
   ]
  },
  {
   "cell_type": "code",
   "execution_count": null,
   "metadata": {},
   "outputs": [],
   "source": [
    "Оба подхода -- случайный лес и градиентный бустинг -- можно применить  не только для классификации, но и для регрессии"
   ]
  },
  {
   "cell_type": "code",
   "execution_count": null,
   "metadata": {},
   "outputs": [],
   "source": [
    "from sklearn.ensemble import RandomForestRegressor\n",
    "from sklearn.ensemble import GradientBoostingRegressor"
   ]
  },
  {
   "cell_type": "markdown",
   "metadata": {},
   "source": [
    "## TL;DR"
   ]
  },
  {
   "cell_type": "markdown",
   "metadata": {},
   "source": [
    "Есть две весьма сильнных модели, которые можно применять для задач регрессии и классификации\n"
   ]
  },
  {
   "cell_type": "code",
   "execution_count": null,
   "metadata": {},
   "outputs": [],
   "source": [
    "# Регрессия\n",
    "from sklearn.ensemble import RandomForestRegressor\n",
    "from sklearn.ensemble import GradientBoostingRegressor\n",
    "\n",
    "#Классификация\n",
    "from sklearn.ensemble import RandomForestClassifier\n",
    "from sklearn.ensemble import GradientBoostingClassifier"
   ]
  },
  {
   "cell_type": "markdown",
   "metadata": {},
   "source": [
    "Но эти модели требуют аккуратной настройки гиперпараметров (глубины деревьев). Их надо подбирать с помощью кросс-валидации."
   ]
  },
  {
   "cell_type": "markdown",
   "metadata": {},
   "source": [
    "Обязательно попробуйте эти модели в наших соревнованиях на kaggle (это легкий способ сильно улучшить результаты)"
   ]
  }
 ],
 "metadata": {
  "kernelspec": {
   "display_name": "Python 3",
   "language": "python",
   "name": "python3"
  },
  "language_info": {
   "codemirror_mode": {
    "name": "ipython",
    "version": 3
   },
   "file_extension": ".py",
   "mimetype": "text/x-python",
   "name": "python",
   "nbconvert_exporter": "python",
   "pygments_lexer": "ipython3",
   "version": "3.6.4"
  }
 },
 "nbformat": 4,
 "nbformat_minor": 2
}
