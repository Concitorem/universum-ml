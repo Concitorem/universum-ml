{
 "cells": [
  {
   "cell_type": "markdown",
   "metadata": {},
   "source": [
    "Давайте рассмотрим такую задачу: по параметрам района предсказать цену квартир в этом районе.\n",
    "Такая задача называется задачей регрессии."
   ]
  },
  {
   "cell_type": "markdown",
   "metadata": {},
   "source": [
    "Есть классический датасет с информацией о районах Бостона, мы залили его на kaggle, вы можете скачать оттуда тестовую выборку по ссылке https://www.kaggle.com/c/boston-dataset/data (файл boston-data.csv). Загрузить данные можно с помощью pandas:"
   ]
  },
  {
   "cell_type": "code",
   "execution_count": 7,
   "metadata": {},
   "outputs": [
    {
     "data": {
      "text/html": [
       "<div>\n",
       "<style scoped>\n",
       "    .dataframe tbody tr th:only-of-type {\n",
       "        vertical-align: middle;\n",
       "    }\n",
       "\n",
       "    .dataframe tbody tr th {\n",
       "        vertical-align: top;\n",
       "    }\n",
       "\n",
       "    .dataframe thead th {\n",
       "        text-align: right;\n",
       "    }\n",
       "</style>\n",
       "<table border=\"1\" class=\"dataframe\">\n",
       "  <thead>\n",
       "    <tr style=\"text-align: right;\">\n",
       "      <th></th>\n",
       "      <th>crim</th>\n",
       "      <th>zn</th>\n",
       "      <th>indus</th>\n",
       "      <th>chas</th>\n",
       "      <th>nox</th>\n",
       "      <th>rm</th>\n",
       "      <th>age</th>\n",
       "      <th>dis</th>\n",
       "      <th>rad</th>\n",
       "      <th>tax</th>\n",
       "      <th>ptratio</th>\n",
       "      <th>black</th>\n",
       "      <th>lstat</th>\n",
       "      <th>medv</th>\n",
       "    </tr>\n",
       "  </thead>\n",
       "  <tbody>\n",
       "    <tr>\n",
       "      <th>0</th>\n",
       "      <td>0.15876</td>\n",
       "      <td>0.0</td>\n",
       "      <td>10.81</td>\n",
       "      <td>0.0</td>\n",
       "      <td>0.413</td>\n",
       "      <td>5.961</td>\n",
       "      <td>17.5</td>\n",
       "      <td>5.2873</td>\n",
       "      <td>4.0</td>\n",
       "      <td>305.0</td>\n",
       "      <td>19.2</td>\n",
       "      <td>376.94</td>\n",
       "      <td>9.88</td>\n",
       "      <td>21.7</td>\n",
       "    </tr>\n",
       "    <tr>\n",
       "      <th>1</th>\n",
       "      <td>0.10328</td>\n",
       "      <td>25.0</td>\n",
       "      <td>5.13</td>\n",
       "      <td>0.0</td>\n",
       "      <td>0.453</td>\n",
       "      <td>5.927</td>\n",
       "      <td>47.2</td>\n",
       "      <td>6.9320</td>\n",
       "      <td>8.0</td>\n",
       "      <td>284.0</td>\n",
       "      <td>19.7</td>\n",
       "      <td>396.90</td>\n",
       "      <td>9.22</td>\n",
       "      <td>19.6</td>\n",
       "    </tr>\n",
       "    <tr>\n",
       "      <th>2</th>\n",
       "      <td>0.34940</td>\n",
       "      <td>0.0</td>\n",
       "      <td>9.90</td>\n",
       "      <td>0.0</td>\n",
       "      <td>0.544</td>\n",
       "      <td>5.972</td>\n",
       "      <td>76.7</td>\n",
       "      <td>3.1025</td>\n",
       "      <td>4.0</td>\n",
       "      <td>304.0</td>\n",
       "      <td>18.4</td>\n",
       "      <td>396.24</td>\n",
       "      <td>9.97</td>\n",
       "      <td>20.3</td>\n",
       "    </tr>\n",
       "    <tr>\n",
       "      <th>3</th>\n",
       "      <td>2.73397</td>\n",
       "      <td>0.0</td>\n",
       "      <td>19.58</td>\n",
       "      <td>0.0</td>\n",
       "      <td>0.871</td>\n",
       "      <td>5.597</td>\n",
       "      <td>94.9</td>\n",
       "      <td>1.5257</td>\n",
       "      <td>5.0</td>\n",
       "      <td>403.0</td>\n",
       "      <td>14.7</td>\n",
       "      <td>351.85</td>\n",
       "      <td>21.45</td>\n",
       "      <td>15.4</td>\n",
       "    </tr>\n",
       "    <tr>\n",
       "      <th>4</th>\n",
       "      <td>0.04337</td>\n",
       "      <td>21.0</td>\n",
       "      <td>5.64</td>\n",
       "      <td>0.0</td>\n",
       "      <td>0.439</td>\n",
       "      <td>6.115</td>\n",
       "      <td>63.0</td>\n",
       "      <td>6.8147</td>\n",
       "      <td>4.0</td>\n",
       "      <td>243.0</td>\n",
       "      <td>16.8</td>\n",
       "      <td>393.97</td>\n",
       "      <td>9.43</td>\n",
       "      <td>20.5</td>\n",
       "    </tr>\n",
       "  </tbody>\n",
       "</table>\n",
       "</div>"
      ],
      "text/plain": [
       "      crim    zn  indus  chas    nox     rm   age     dis  rad    tax  \\\n",
       "0  0.15876   0.0  10.81   0.0  0.413  5.961  17.5  5.2873  4.0  305.0   \n",
       "1  0.10328  25.0   5.13   0.0  0.453  5.927  47.2  6.9320  8.0  284.0   \n",
       "2  0.34940   0.0   9.90   0.0  0.544  5.972  76.7  3.1025  4.0  304.0   \n",
       "3  2.73397   0.0  19.58   0.0  0.871  5.597  94.9  1.5257  5.0  403.0   \n",
       "4  0.04337  21.0   5.64   0.0  0.439  6.115  63.0  6.8147  4.0  243.0   \n",
       "\n",
       "   ptratio   black  lstat  medv  \n",
       "0     19.2  376.94   9.88  21.7  \n",
       "1     19.7  396.90   9.22  19.6  \n",
       "2     18.4  396.24   9.97  20.3  \n",
       "3     14.7  351.85  21.45  15.4  \n",
       "4     16.8  393.97   9.43  20.5  "
      ]
     },
     "execution_count": 7,
     "metadata": {},
     "output_type": "execute_result"
    }
   ],
   "source": [
    "import pandas as pd\n",
    "\n",
    "data = pd.read_csv('boston_data.csv')\n",
    "data.head()"
   ]
  },
  {
   "cell_type": "code",
   "execution_count": 18,
   "metadata": {},
   "outputs": [],
   "source": [
    "X  = data.drop(columns=['medv'])\n",
    "Y  = data['medv']"
   ]
  },
  {
   "cell_type": "code",
   "execution_count": 3,
   "metadata": {},
   "outputs": [
    {
     "data": {
      "text/html": [
       "<img src=\"https://cdn-images-1.medium.com/max/1600/1*i9vZk7NkS1dZz6JEcbV5nA.png\"/>"
      ],
      "text/plain": [
       "<IPython.core.display.Image object>"
      ]
     },
     "execution_count": 3,
     "metadata": {},
     "output_type": "execute_result"
    }
   ],
   "source": [
    "from IPython.display import Image\n",
    "from IPython.core.display import HTML \n",
    "\n",
    "# описание признаков в датасете\n",
    "Image(url= \"https://cdn-images-1.medium.com/max/1600/1*i9vZk7NkS1dZz6JEcbV5nA.png\")"
   ]
  },
  {
   "cell_type": "markdown",
   "metadata": {},
   "source": [
    "Каждая строка в датасете -- описание одного из районов Бостона. Наша задача -- используя все переменные кроме последней (MEDV) предсказать значение MEDV."
   ]
  },
  {
   "cell_type": "markdown",
   "metadata": {},
   "source": [
    "Давайте сначала договоримся, как мы будем оценивать качество нашего предсказания. Обычно для этого используется метрика MSE -- mean square error. Для каждого примера мы считаем разность между истинным значением и нашим предсказанием и находим средний квадрат этих разностей.\n",
    "\n",
    "Давайте обозначать для i-ой строки вектор значений признаков $x_i$, а истинное значение MEDV $y_i$. Предсказание нашей модели будем обозначать $f(x_i).$ Тогда качество нашей модели будет описываться формулой\n",
    "$$\n",
    " MSE(f) = \\frac{1}{N} \\sum_{i=1}^{N} \\left(f(x_i) - y_i \\right)^2\n",
    "$$"
   ]
  },
  {
   "cell_type": "markdown",
   "metadata": {},
   "source": [
    "Как будет устроена модель? Для начала давайте посмотрим на самый простой вариант: для данного примера, со значениями признаков\n",
    "$$\n",
    "x_i^1, \\dots, x_i^n\n",
    "$$\n",
    "\n",
    "будем вычислять предсказание нашей модели по формуле $f(x_i) = a_0 + a_1 x_i^1 + a_2 x_i^2 + \\dots a_n x_i^n$. Коэффициенты $a_i$ будем выбирать так, чтобы минимизировать значение MSE для нашей формулы.\n",
    "\n",
    "К счастью, Python умеет за нас подбирать эти коэффициенты"
   ]
  },
  {
   "cell_type": "code",
   "execution_count": 30,
   "metadata": {},
   "outputs": [],
   "source": [
    "from sklearn.linear_model import LinearRegression\n",
    "import numpy as np\n",
    "%matplotlib inline\n",
    "from matplotlib import pyplot as plt"
   ]
  },
  {
   "cell_type": "code",
   "execution_count": 88,
   "metadata": {},
   "outputs": [
    {
     "name": "stdout",
     "output_type": "stream",
     "text": [
      "19.31388739887513\n"
     ]
    }
   ],
   "source": [
    "#создаем объект, который умеет все что нам нужно\n",
    "X  = data.drop(columns=['medv'])\n",
    "reg = LinearRegression()\n",
    "#обучаем регрессию\n",
    "reg.fit(X, Y)\n",
    "#смотрим на качество\n",
    "pred = reg.predict(X)\n",
    "print (np.mean((pred - Y) ** 2))"
   ]
  },
  {
   "cell_type": "markdown",
   "metadata": {},
   "source": [
    "Хорошее ли это качество? На самом деле не очень. Если мы посмотрим на распределение цен мы увидим, что наша ошибка сравнима со значением средней цены"
   ]
  },
  {
   "cell_type": "code",
   "execution_count": 51,
   "metadata": {},
   "outputs": [
    {
     "data": {
      "image/png": "[encoded data removed]",
      "text/plain": [
       "<matplotlib.figure.Figure at 0x1c257574630>"
      ]
     },
     "metadata": {},
     "output_type": "display_data"
    }
   ],
   "source": [
    "plt.hist(Y, bins=20);"
   ]
  },
  {
   "cell_type": "markdown",
   "metadata": {},
   "source": [
    "Почему качество получается таким плохим? Дело в том, что мы подбираем линейные функции, а они не всегда хорошо соответствуют нашим данным. Давайте попробуем посмотреть на корреляцию между ценой квартиры и другими параметрами:"
   ]
  },
  {
   "cell_type": "code",
   "execution_count": 261,
   "metadata": {},
   "outputs": [
    {
     "data": {
      "image/png": "[encoded data removed]",
      "text/plain": [
       "<matplotlib.figure.Figure at 0x1c257dca9e8>"
      ]
     },
     "metadata": {},
     "output_type": "display_data"
    }
   ],
   "source": [
    "plt.figure(figsize=(20, 10))\n",
    "plt.plot(X['lstat'], Y, 'o', c='red')\n",
    "plt.show()"
   ]
  },
  {
   "cell_type": "markdown",
   "metadata": {},
   "source": [
    "График больше похож на 1/x, чем на линейную функцию"
   ]
  },
  {
   "cell_type": "code",
   "execution_count": 260,
   "metadata": {},
   "outputs": [
    {
     "data": {
      "image/png": "[encoded data removed]",
      "text/plain": [
       "<matplotlib.figure.Figure at 0x1c25772a550>"
      ]
     },
     "metadata": {},
     "output_type": "display_data"
    }
   ],
   "source": [
    "plt.figure(figsize=(20, 10))\n",
    "plt.plot(X['rm'], Y, 'o', c='red')\n",
    "plt.show()"
   ]
  },
  {
   "cell_type": "markdown",
   "metadata": {},
   "source": [
    "Видно, что зависимоть не всегда похожа на линейную. Давайте попробуем к каждой фиче добавить ее степени, тогда наша регрессия по сути будет подбирать не линейную а полиномиальную функцию."
   ]
  },
  {
   "cell_type": "code",
   "execution_count": 223,
   "metadata": {},
   "outputs": [],
   "source": [
    "def add_polynomial_features(X):\n",
    "    columns = X.columns\n",
    "    for c in columns:\n",
    "        X[c+'_2'] = X[c] ** 2\n",
    "        X[c+'_3'] = X[c] ** 3\n",
    "        X[c+'_4'] = X[c] ** 4\n",
    "        "
   ]
  },
  {
   "cell_type": "code",
   "execution_count": 262,
   "metadata": {},
   "outputs": [
    {
     "name": "stderr",
     "output_type": "stream",
     "text": [
      "C:\\ProgramData\\Anaconda3\\lib\\site-packages\\scipy\\linalg\\basic.py:40: RuntimeWarning: scipy.linalg.solve\n",
      "Ill-conditioned matrix detected. Result is not guaranteed to be accurate.\n",
      "Reciprocal condition number/precision: 3.6366888810087256e-25 / 1.1102230246251565e-16\n",
      "  RuntimeWarning)\n"
     ]
    },
    {
     "data": {
      "text/plain": [
       "11.19477965770961"
      ]
     },
     "execution_count": 262,
     "metadata": {},
     "output_type": "execute_result"
    }
   ],
   "source": [
    "X = data.drop(columns=['medv'])\n",
    "add_polynomial_features(X)\n",
    "reg.fit(X, Y)\n",
    "pred = reg.predict(X)\n",
    "np.mean((pred - Y)** 2)"
   ]
  },
  {
   "cell_type": "code",
   "execution_count": 263,
   "metadata": {},
   "outputs": [
    {
     "data": {
      "text/html": [
       "<div>\n",
       "<style scoped>\n",
       "    .dataframe tbody tr th:only-of-type {\n",
       "        vertical-align: middle;\n",
       "    }\n",
       "\n",
       "    .dataframe tbody tr th {\n",
       "        vertical-align: top;\n",
       "    }\n",
       "\n",
       "    .dataframe thead th {\n",
       "        text-align: right;\n",
       "    }\n",
       "</style>\n",
       "<table border=\"1\" class=\"dataframe\">\n",
       "  <thead>\n",
       "    <tr style=\"text-align: right;\">\n",
       "      <th></th>\n",
       "      <th>crim</th>\n",
       "      <th>zn</th>\n",
       "      <th>indus</th>\n",
       "      <th>chas</th>\n",
       "      <th>nox</th>\n",
       "      <th>rm</th>\n",
       "      <th>age</th>\n",
       "      <th>dis</th>\n",
       "      <th>rad</th>\n",
       "      <th>tax</th>\n",
       "      <th>...</th>\n",
       "      <th>tax_4</th>\n",
       "      <th>ptratio_2</th>\n",
       "      <th>ptratio_3</th>\n",
       "      <th>ptratio_4</th>\n",
       "      <th>black_2</th>\n",
       "      <th>black_3</th>\n",
       "      <th>black_4</th>\n",
       "      <th>lstat_2</th>\n",
       "      <th>lstat_3</th>\n",
       "      <th>lstat_4</th>\n",
       "    </tr>\n",
       "  </thead>\n",
       "  <tbody>\n",
       "    <tr>\n",
       "      <th>0</th>\n",
       "      <td>0.15876</td>\n",
       "      <td>0.0</td>\n",
       "      <td>10.81</td>\n",
       "      <td>0.0</td>\n",
       "      <td>0.413</td>\n",
       "      <td>5.961</td>\n",
       "      <td>17.5</td>\n",
       "      <td>5.2873</td>\n",
       "      <td>4.0</td>\n",
       "      <td>305.0</td>\n",
       "      <td>...</td>\n",
       "      <td>8.653651e+09</td>\n",
       "      <td>368.64</td>\n",
       "      <td>7077.888</td>\n",
       "      <td>135895.4496</td>\n",
       "      <td>142083.7636</td>\n",
       "      <td>5.355705e+07</td>\n",
       "      <td>2.018780e+10</td>\n",
       "      <td>97.6144</td>\n",
       "      <td>964.430272</td>\n",
       "      <td>9528.571087</td>\n",
       "    </tr>\n",
       "    <tr>\n",
       "      <th>1</th>\n",
       "      <td>0.10328</td>\n",
       "      <td>25.0</td>\n",
       "      <td>5.13</td>\n",
       "      <td>0.0</td>\n",
       "      <td>0.453</td>\n",
       "      <td>5.927</td>\n",
       "      <td>47.2</td>\n",
       "      <td>6.9320</td>\n",
       "      <td>8.0</td>\n",
       "      <td>284.0</td>\n",
       "      <td>...</td>\n",
       "      <td>6.505390e+09</td>\n",
       "      <td>388.09</td>\n",
       "      <td>7645.373</td>\n",
       "      <td>150613.8481</td>\n",
       "      <td>157529.6100</td>\n",
       "      <td>6.252350e+07</td>\n",
       "      <td>2.481558e+10</td>\n",
       "      <td>85.0084</td>\n",
       "      <td>783.777448</td>\n",
       "      <td>7226.428071</td>\n",
       "    </tr>\n",
       "    <tr>\n",
       "      <th>2</th>\n",
       "      <td>0.34940</td>\n",
       "      <td>0.0</td>\n",
       "      <td>9.90</td>\n",
       "      <td>0.0</td>\n",
       "      <td>0.544</td>\n",
       "      <td>5.972</td>\n",
       "      <td>76.7</td>\n",
       "      <td>3.1025</td>\n",
       "      <td>4.0</td>\n",
       "      <td>304.0</td>\n",
       "      <td>...</td>\n",
       "      <td>8.540717e+09</td>\n",
       "      <td>338.56</td>\n",
       "      <td>6229.504</td>\n",
       "      <td>114622.8736</td>\n",
       "      <td>157006.1376</td>\n",
       "      <td>6.221211e+07</td>\n",
       "      <td>2.465093e+10</td>\n",
       "      <td>99.4009</td>\n",
       "      <td>991.026973</td>\n",
       "      <td>9880.538921</td>\n",
       "    </tr>\n",
       "    <tr>\n",
       "      <th>3</th>\n",
       "      <td>2.73397</td>\n",
       "      <td>0.0</td>\n",
       "      <td>19.58</td>\n",
       "      <td>0.0</td>\n",
       "      <td>0.871</td>\n",
       "      <td>5.597</td>\n",
       "      <td>94.9</td>\n",
       "      <td>1.5257</td>\n",
       "      <td>5.0</td>\n",
       "      <td>403.0</td>\n",
       "      <td>...</td>\n",
       "      <td>2.637668e+10</td>\n",
       "      <td>216.09</td>\n",
       "      <td>3176.523</td>\n",
       "      <td>46694.8881</td>\n",
       "      <td>123798.4225</td>\n",
       "      <td>4.355847e+07</td>\n",
       "      <td>1.532605e+10</td>\n",
       "      <td>460.1025</td>\n",
       "      <td>9869.198625</td>\n",
       "      <td>211694.310506</td>\n",
       "    </tr>\n",
       "    <tr>\n",
       "      <th>4</th>\n",
       "      <td>0.04337</td>\n",
       "      <td>21.0</td>\n",
       "      <td>5.64</td>\n",
       "      <td>0.0</td>\n",
       "      <td>0.439</td>\n",
       "      <td>6.115</td>\n",
       "      <td>63.0</td>\n",
       "      <td>6.8147</td>\n",
       "      <td>4.0</td>\n",
       "      <td>243.0</td>\n",
       "      <td>...</td>\n",
       "      <td>3.486784e+09</td>\n",
       "      <td>282.24</td>\n",
       "      <td>4741.632</td>\n",
       "      <td>79659.4176</td>\n",
       "      <td>155212.3609</td>\n",
       "      <td>6.114901e+07</td>\n",
       "      <td>2.409088e+10</td>\n",
       "      <td>88.9249</td>\n",
       "      <td>838.561807</td>\n",
       "      <td>7907.637840</td>\n",
       "    </tr>\n",
       "  </tbody>\n",
       "</table>\n",
       "<p>5 rows × 52 columns</p>\n",
       "</div>"
      ],
      "text/plain": [
       "      crim    zn  indus  chas    nox     rm   age     dis  rad    tax  \\\n",
       "0  0.15876   0.0  10.81   0.0  0.413  5.961  17.5  5.2873  4.0  305.0   \n",
       "1  0.10328  25.0   5.13   0.0  0.453  5.927  47.2  6.9320  8.0  284.0   \n",
       "2  0.34940   0.0   9.90   0.0  0.544  5.972  76.7  3.1025  4.0  304.0   \n",
       "3  2.73397   0.0  19.58   0.0  0.871  5.597  94.9  1.5257  5.0  403.0   \n",
       "4  0.04337  21.0   5.64   0.0  0.439  6.115  63.0  6.8147  4.0  243.0   \n",
       "\n",
       "       ...               tax_4  ptratio_2  ptratio_3    ptratio_4  \\\n",
       "0      ...        8.653651e+09     368.64   7077.888  135895.4496   \n",
       "1      ...        6.505390e+09     388.09   7645.373  150613.8481   \n",
       "2      ...        8.540717e+09     338.56   6229.504  114622.8736   \n",
       "3      ...        2.637668e+10     216.09   3176.523   46694.8881   \n",
       "4      ...        3.486784e+09     282.24   4741.632   79659.4176   \n",
       "\n",
       "       black_2       black_3       black_4   lstat_2      lstat_3  \\\n",
       "0  142083.7636  5.355705e+07  2.018780e+10   97.6144   964.430272   \n",
       "1  157529.6100  6.252350e+07  2.481558e+10   85.0084   783.777448   \n",
       "2  157006.1376  6.221211e+07  2.465093e+10   99.4009   991.026973   \n",
       "3  123798.4225  4.355847e+07  1.532605e+10  460.1025  9869.198625   \n",
       "4  155212.3609  6.114901e+07  2.409088e+10   88.9249   838.561807   \n",
       "\n",
       "         lstat_4  \n",
       "0    9528.571087  \n",
       "1    7226.428071  \n",
       "2    9880.538921  \n",
       "3  211694.310506  \n",
       "4    7907.637840  \n",
       "\n",
       "[5 rows x 52 columns]"
      ]
     },
     "execution_count": 263,
     "metadata": {},
     "output_type": "execute_result"
    }
   ],
   "source": [
    "X.head()"
   ]
  },
  {
   "cell_type": "markdown",
   "metadata": {},
   "source": [
    "Качество улучшилось почти в два раза. Но честный ли это замер?\n",
    "\n",
    "Одна из главных проблем в машинном обучении -- переобучение. Если модель достаточно сложна, то она может просто \"запомнить\" ответы для всех примеров. Это позволит получить хорошее качество модели, но если она увидит новый пример, она почти ничего не будет про него понимать.\n",
    "\n",
    "Чтобы делать честный замер, нужно разделить множества на котором мы обучаем модель и множество, на котором мы измеряем качество."
   ]
  },
  {
   "cell_type": "code",
   "execution_count": 110,
   "metadata": {},
   "outputs": [],
   "source": [
    "from sklearn.model_selection import train_test_split\n",
    "X_train, X_test, Y_train, Y_test = train_test_split(X, Y, test_size=0.3, random_state=1)"
   ]
  },
  {
   "cell_type": "code",
   "execution_count": 271,
   "metadata": {},
   "outputs": [
    {
     "data": {
      "text/plain": [
       "22.795127884639488"
      ]
     },
     "execution_count": 271,
     "metadata": {},
     "output_type": "execute_result"
    }
   ],
   "source": [
    "#No extra features\n",
    "X = data.drop(columns=['medv'])\n",
    "X_train, X_test, Y_train, Y_test = train_test_split(X, Y, test_size=0.3, random_state=1)\n",
    "reg.fit(X_train, Y_train);\n",
    "pred = reg.predict(X_test)\n",
    "np.mean((pred - Y_test) ** 2)"
   ]
  },
  {
   "cell_type": "code",
   "execution_count": 272,
   "metadata": {},
   "outputs": [
    {
     "data": {
      "text/plain": [
       "29.74047475397478"
      ]
     },
     "execution_count": 272,
     "metadata": {},
     "output_type": "execute_result"
    }
   ],
   "source": [
    "#Extra features\n",
    "reg_poly = LinearRegression()\n",
    "X = data.drop(columns=['medv'])\n",
    "add_polynomial_features(X)\n",
    "X_train, X_test, Y_train, Y_test = train_test_split(X, Y, test_size=0.3, random_state=1)\n",
    "reg_poly.fit(X_train, Y_train);\n",
    "pred = reg_poly.predict(X_test)\n",
    "np.mean((pred - Y_test) ** 2)"
   ]
  },
  {
   "cell_type": "markdown",
   "metadata": {},
   "source": [
    "Это типичная картина при переобучении: качество на обучающей выборке улучшается, а на тестовой заметно ухудшается. Как с этим бороться? Один из путей такой. Мы хотим сделать так, чтобы модель оставалось достаточно простой, несмотря на количество фичей. Одним из показателей сложной модели являются большие по модулю значения коэффициентов $a_i$. Можно например к нашей метрики качества модели MSE добавить штраф за сложность модели в виде $\\alpha \\sum a_i^2$. Коэффициент $\\alpha$ отвечает за то, насколько нам важна сложность модели. При $\\alpha$ равном 0 штрафа нет, при очень большом значении все коэффициенты будут равны 0. Такую функциональность обеспечивает класс"
   ]
  },
  {
   "cell_type": "code",
   "execution_count": 131,
   "metadata": {},
   "outputs": [],
   "source": [
    "from sklearn.linear_model import Ridge"
   ]
  },
  {
   "cell_type": "code",
   "execution_count": 243,
   "metadata": {},
   "outputs": [
    {
     "name": "stderr",
     "output_type": "stream",
     "text": [
      "C:\\ProgramData\\Anaconda3\\lib\\site-packages\\scipy\\linalg\\basic.py:40: RuntimeWarning: scipy.linalg.solve\n",
      "Ill-conditioned matrix detected. Result is not guaranteed to be accurate.\n",
      "Reciprocal condition number/precision: 3.899387166796902e-23 / 1.1102230246251565e-16\n",
      "  RuntimeWarning)\n"
     ]
    },
    {
     "data": {
      "text/plain": [
       "26.274758765366585"
      ]
     },
     "execution_count": 243,
     "metadata": {},
     "output_type": "execute_result"
    }
   ],
   "source": [
    "reg_ridge = Ridge(alpha=100.0)\n",
    "X = data.drop(columns=['medv'])\n",
    "add_polynomial_features(X)\n",
    "X_train, X_test, Y_train, Y_test = train_test_split(X, Y, test_size=0.3, random_state=1)\n",
    "reg_ridge.fit(X_train, Y_train);\n",
    "pred = reg_ridge.predict(X_test)\n",
    "np.mean((pred - Y_test) ** 2)"
   ]
  },
  {
   "cell_type": "markdown",
   "metadata": {},
   "source": [
    "Поэкспериментируйте с параметром alpha. При каком alpha получается наилучшее качество на тесте? Постройте график зависимости качества на тесте от значения alpha. Совет: alpha дучше выбирать экспоненциально меняющимся, например от 1e-5 до 1e5."
   ]
  },
  {
   "cell_type": "markdown",
   "metadata": {},
   "source": [
    "К сожалению, в такой постановке мы все еще можем переобучиться под наши данные: мы выберем alpha так, чтобы оптимизровать результат на нашем тесте, а он может случайно оказаться нехарактерным.\n",
    "\n",
    "Обычно чтобы уменьшить этот эффект используют k-fold cross-validation: данные k раз делят на k частей (\"фолдов\"), k-1 используют для обучения, а оставшуюся -- как тест, после этого качество усредняют по всем фолдам и подбирают гиперпараметры так, чтобы максимизировать это усредненное качество.\n"
   ]
  },
  {
   "cell_type": "markdown",
   "metadata": {},
   "source": [
    "Задание: реализуйте описанный алгоритм."
   ]
  },
  {
   "cell_type": "markdown",
   "metadata": {},
   "source": [
    "## Kaggle"
   ]
  },
  {
   "cell_type": "markdown",
   "metadata": {},
   "source": [
    "Попробуйте поучаствовать в контесте на Kaggle. Качайте тестовую выборку из https://www.kaggle.com/c/boston-dataset/data"
   ]
  },
  {
   "cell_type": "code",
   "execution_count": 246,
   "metadata": {},
   "outputs": [
    {
     "data": {
      "text/html": [
       "<div>\n",
       "<style scoped>\n",
       "    .dataframe tbody tr th:only-of-type {\n",
       "        vertical-align: middle;\n",
       "    }\n",
       "\n",
       "    .dataframe tbody tr th {\n",
       "        vertical-align: top;\n",
       "    }\n",
       "\n",
       "    .dataframe thead th {\n",
       "        text-align: right;\n",
       "    }\n",
       "</style>\n",
       "<table border=\"1\" class=\"dataframe\">\n",
       "  <thead>\n",
       "    <tr style=\"text-align: right;\">\n",
       "      <th></th>\n",
       "      <th>crim</th>\n",
       "      <th>zn</th>\n",
       "      <th>indus</th>\n",
       "      <th>chas</th>\n",
       "      <th>nox</th>\n",
       "      <th>rm</th>\n",
       "      <th>age</th>\n",
       "      <th>dis</th>\n",
       "      <th>rad</th>\n",
       "      <th>tax</th>\n",
       "      <th>ptratio</th>\n",
       "      <th>black</th>\n",
       "      <th>lstat</th>\n",
       "    </tr>\n",
       "  </thead>\n",
       "  <tbody>\n",
       "    <tr>\n",
       "      <th>0</th>\n",
       "      <td>0.07886</td>\n",
       "      <td>80.0</td>\n",
       "      <td>4.95</td>\n",
       "      <td>0.0</td>\n",
       "      <td>0.411</td>\n",
       "      <td>7.148</td>\n",
       "      <td>27.7</td>\n",
       "      <td>5.1167</td>\n",
       "      <td>4.0</td>\n",
       "      <td>245.0</td>\n",
       "      <td>19.2</td>\n",
       "      <td>396.90</td>\n",
       "      <td>3.56</td>\n",
       "    </tr>\n",
       "    <tr>\n",
       "      <th>1</th>\n",
       "      <td>0.08873</td>\n",
       "      <td>21.0</td>\n",
       "      <td>5.64</td>\n",
       "      <td>0.0</td>\n",
       "      <td>0.439</td>\n",
       "      <td>5.963</td>\n",
       "      <td>45.7</td>\n",
       "      <td>6.8147</td>\n",
       "      <td>4.0</td>\n",
       "      <td>243.0</td>\n",
       "      <td>16.8</td>\n",
       "      <td>395.56</td>\n",
       "      <td>13.45</td>\n",
       "    </tr>\n",
       "    <tr>\n",
       "      <th>2</th>\n",
       "      <td>1.38799</td>\n",
       "      <td>0.0</td>\n",
       "      <td>8.14</td>\n",
       "      <td>0.0</td>\n",
       "      <td>0.538</td>\n",
       "      <td>5.950</td>\n",
       "      <td>82.0</td>\n",
       "      <td>3.9900</td>\n",
       "      <td>4.0</td>\n",
       "      <td>307.0</td>\n",
       "      <td>21.0</td>\n",
       "      <td>232.60</td>\n",
       "      <td>27.71</td>\n",
       "    </tr>\n",
       "    <tr>\n",
       "      <th>3</th>\n",
       "      <td>0.30347</td>\n",
       "      <td>0.0</td>\n",
       "      <td>7.38</td>\n",
       "      <td>0.0</td>\n",
       "      <td>0.493</td>\n",
       "      <td>6.312</td>\n",
       "      <td>28.9</td>\n",
       "      <td>5.4159</td>\n",
       "      <td>5.0</td>\n",
       "      <td>287.0</td>\n",
       "      <td>19.6</td>\n",
       "      <td>396.90</td>\n",
       "      <td>6.15</td>\n",
       "    </tr>\n",
       "    <tr>\n",
       "      <th>4</th>\n",
       "      <td>0.22927</td>\n",
       "      <td>0.0</td>\n",
       "      <td>6.91</td>\n",
       "      <td>0.0</td>\n",
       "      <td>0.448</td>\n",
       "      <td>6.030</td>\n",
       "      <td>85.5</td>\n",
       "      <td>5.6894</td>\n",
       "      <td>3.0</td>\n",
       "      <td>233.0</td>\n",
       "      <td>17.9</td>\n",
       "      <td>392.74</td>\n",
       "      <td>18.80</td>\n",
       "    </tr>\n",
       "  </tbody>\n",
       "</table>\n",
       "</div>"
      ],
      "text/plain": [
       "      crim    zn  indus  chas    nox     rm   age     dis  rad    tax  \\\n",
       "0  0.07886  80.0   4.95   0.0  0.411  7.148  27.7  5.1167  4.0  245.0   \n",
       "1  0.08873  21.0   5.64   0.0  0.439  5.963  45.7  6.8147  4.0  243.0   \n",
       "2  1.38799   0.0   8.14   0.0  0.538  5.950  82.0  3.9900  4.0  307.0   \n",
       "3  0.30347   0.0   7.38   0.0  0.493  6.312  28.9  5.4159  5.0  287.0   \n",
       "4  0.22927   0.0   6.91   0.0  0.448  6.030  85.5  5.6894  3.0  233.0   \n",
       "\n",
       "   ptratio   black  lstat  \n",
       "0     19.2  396.90   3.56  \n",
       "1     16.8  395.56  13.45  \n",
       "2     21.0  232.60  27.71  \n",
       "3     19.6  396.90   6.15  \n",
       "4     17.9  392.74  18.80  "
      ]
     },
     "execution_count": 246,
     "metadata": {},
     "output_type": "execute_result"
    }
   ],
   "source": [
    "test = pd.read_csv('boston_test_data.csv')\n",
    "\n",
    "test.head()"
   ]
  },
  {
   "cell_type": "markdown",
   "metadata": {},
   "source": [
    "Как вы видите, здесь значения medv не даны -- их знает система и будет глядя на них оценивать ваш результат.\n",
    "\n",
    "Используем наш регрессор и получим предсказания для тестовых данных:"
   ]
  },
  {
   "cell_type": "code",
   "execution_count": 255,
   "metadata": {},
   "outputs": [],
   "source": [
    "X_test = test.copy()\n",
    "add_polynomial_features(X_test)\n",
    "pred_test = reg_ridge.predict(X_test)"
   ]
  },
  {
   "cell_type": "markdown",
   "metadata": {},
   "source": [
    "На kaggle нужно загрузить результаты в формате csv, в виде файла содержащего две колонки: номер примера и ваше предсказание."
   ]
  },
  {
   "cell_type": "code",
   "execution_count": 273,
   "metadata": {},
   "outputs": [],
   "source": [
    "count = len(pred_test)\n",
    "result = pd.DataFrame({'id' : np.arange(count), 'price' : pred_test})\n",
    "result.to_csv('test.csv', index=None)"
   ]
  },
  {
   "cell_type": "markdown",
   "metadata": {},
   "source": [
    "Полученный файл можно загрузить на kaggle и посмотреть результат. \n",
    "Вы должны получить результат примерно как у преподавателей. Более высокие результаты в таблице получены участниками, которые использовали более эффективные алгоритмы, чем линейная регрессия"
   ]
  },
  {
   "cell_type": "markdown",
   "metadata": {},
   "source": [
    "Поэкспериментируйте с новыми фичами, которые вы добавляете. Это не обязательно должны быть степени исходных фичей.\n",
    "Попробуйте улучшить качество вашего предиктора. Не забывайте про кросс-валидацию!"
   ]
  }
 ],
 "metadata": {
  "kernelspec": {
   "display_name": "Python 3",
   "language": "python",
   "name": "python3"
  },
  "language_info": {
   "codemirror_mode": {
    "name": "ipython",
    "version": 3
   },
   "file_extension": ".py",
   "mimetype": "text/x-python",
   "name": "python",
   "nbconvert_exporter": "python",
   "pygments_lexer": "ipython3",
   "version": "3.6.4"
  }
 },
 "nbformat": 4,
 "nbformat_minor": 2
}
